{
  "nbformat": 4,
  "nbformat_minor": 0,
  "metadata": {
    "colab": {
      "provenance": []
    },
    "kernelspec": {
      "name": "python3",
      "display_name": "Python 3"
    },
    "language_info": {
      "name": "python"
    }
  },
  "cells": [
    {
      "cell_type": "code",
      "execution_count": 1,
      "metadata": {
        "colab": {
          "base_uri": "https://localhost:8080/"
        },
        "id": "P6g2Es8vn0My",
        "outputId": "a17bcc65-4b87-49f1-d884-3b611527256a"
      },
      "outputs": [
        {
          "output_type": "stream",
          "name": "stdout",
          "text": [
            "Requirement already satisfied: pandas in /usr/local/lib/python3.10/dist-packages (2.1.4)\n",
            "Requirement already satisfied: numpy<2,>=1.22.4 in /usr/local/lib/python3.10/dist-packages (from pandas) (1.26.4)\n",
            "Requirement already satisfied: python-dateutil>=2.8.2 in /usr/local/lib/python3.10/dist-packages (from pandas) (2.8.2)\n",
            "Requirement already satisfied: pytz>=2020.1 in /usr/local/lib/python3.10/dist-packages (from pandas) (2024.1)\n",
            "Requirement already satisfied: tzdata>=2022.1 in /usr/local/lib/python3.10/dist-packages (from pandas) (2024.1)\n",
            "Requirement already satisfied: six>=1.5 in /usr/local/lib/python3.10/dist-packages (from python-dateutil>=2.8.2->pandas) (1.16.0)\n"
          ]
        }
      ],
      "source": [
        "!pip install pandas"
      ]
    },
    {
      "cell_type": "code",
      "source": [
        "from google.colab import files\n",
        "\n",
        "uploaded = files.upload()"
      ],
      "metadata": {
        "colab": {
          "base_uri": "https://localhost:8080/",
          "height": 142
        },
        "id": "-Z85_bpRoEt1",
        "outputId": "780a74ee-66bf-4896-e07d-11dae217a01a"
      },
      "execution_count": 4,
      "outputs": [
        {
          "output_type": "display_data",
          "data": {
            "text/plain": [
              "<IPython.core.display.HTML object>"
            ],
            "text/html": [
              "\n",
              "     <input type=\"file\" id=\"files-b98e3ff1-e7c0-4b17-bb64-31ab3110ee7d\" name=\"files[]\" multiple disabled\n",
              "        style=\"border:none\" />\n",
              "     <output id=\"result-b98e3ff1-e7c0-4b17-bb64-31ab3110ee7d\">\n",
              "      Upload widget is only available when the cell has been executed in the\n",
              "      current browser session. Please rerun this cell to enable.\n",
              "      </output>\n",
              "      <script>// Copyright 2017 Google LLC\n",
              "//\n",
              "// Licensed under the Apache License, Version 2.0 (the \"License\");\n",
              "// you may not use this file except in compliance with the License.\n",
              "// You may obtain a copy of the License at\n",
              "//\n",
              "//      http://www.apache.org/licenses/LICENSE-2.0\n",
              "//\n",
              "// Unless required by applicable law or agreed to in writing, software\n",
              "// distributed under the License is distributed on an \"AS IS\" BASIS,\n",
              "// WITHOUT WARRANTIES OR CONDITIONS OF ANY KIND, either express or implied.\n",
              "// See the License for the specific language governing permissions and\n",
              "// limitations under the License.\n",
              "\n",
              "/**\n",
              " * @fileoverview Helpers for google.colab Python module.\n",
              " */\n",
              "(function(scope) {\n",
              "function span(text, styleAttributes = {}) {\n",
              "  const element = document.createElement('span');\n",
              "  element.textContent = text;\n",
              "  for (const key of Object.keys(styleAttributes)) {\n",
              "    element.style[key] = styleAttributes[key];\n",
              "  }\n",
              "  return element;\n",
              "}\n",
              "\n",
              "// Max number of bytes which will be uploaded at a time.\n",
              "const MAX_PAYLOAD_SIZE = 100 * 1024;\n",
              "\n",
              "function _uploadFiles(inputId, outputId) {\n",
              "  const steps = uploadFilesStep(inputId, outputId);\n",
              "  const outputElement = document.getElementById(outputId);\n",
              "  // Cache steps on the outputElement to make it available for the next call\n",
              "  // to uploadFilesContinue from Python.\n",
              "  outputElement.steps = steps;\n",
              "\n",
              "  return _uploadFilesContinue(outputId);\n",
              "}\n",
              "\n",
              "// This is roughly an async generator (not supported in the browser yet),\n",
              "// where there are multiple asynchronous steps and the Python side is going\n",
              "// to poll for completion of each step.\n",
              "// This uses a Promise to block the python side on completion of each step,\n",
              "// then passes the result of the previous step as the input to the next step.\n",
              "function _uploadFilesContinue(outputId) {\n",
              "  const outputElement = document.getElementById(outputId);\n",
              "  const steps = outputElement.steps;\n",
              "\n",
              "  const next = steps.next(outputElement.lastPromiseValue);\n",
              "  return Promise.resolve(next.value.promise).then((value) => {\n",
              "    // Cache the last promise value to make it available to the next\n",
              "    // step of the generator.\n",
              "    outputElement.lastPromiseValue = value;\n",
              "    return next.value.response;\n",
              "  });\n",
              "}\n",
              "\n",
              "/**\n",
              " * Generator function which is called between each async step of the upload\n",
              " * process.\n",
              " * @param {string} inputId Element ID of the input file picker element.\n",
              " * @param {string} outputId Element ID of the output display.\n",
              " * @return {!Iterable<!Object>} Iterable of next steps.\n",
              " */\n",
              "function* uploadFilesStep(inputId, outputId) {\n",
              "  const inputElement = document.getElementById(inputId);\n",
              "  inputElement.disabled = false;\n",
              "\n",
              "  const outputElement = document.getElementById(outputId);\n",
              "  outputElement.innerHTML = '';\n",
              "\n",
              "  const pickedPromise = new Promise((resolve) => {\n",
              "    inputElement.addEventListener('change', (e) => {\n",
              "      resolve(e.target.files);\n",
              "    });\n",
              "  });\n",
              "\n",
              "  const cancel = document.createElement('button');\n",
              "  inputElement.parentElement.appendChild(cancel);\n",
              "  cancel.textContent = 'Cancel upload';\n",
              "  const cancelPromise = new Promise((resolve) => {\n",
              "    cancel.onclick = () => {\n",
              "      resolve(null);\n",
              "    };\n",
              "  });\n",
              "\n",
              "  // Wait for the user to pick the files.\n",
              "  const files = yield {\n",
              "    promise: Promise.race([pickedPromise, cancelPromise]),\n",
              "    response: {\n",
              "      action: 'starting',\n",
              "    }\n",
              "  };\n",
              "\n",
              "  cancel.remove();\n",
              "\n",
              "  // Disable the input element since further picks are not allowed.\n",
              "  inputElement.disabled = true;\n",
              "\n",
              "  if (!files) {\n",
              "    return {\n",
              "      response: {\n",
              "        action: 'complete',\n",
              "      }\n",
              "    };\n",
              "  }\n",
              "\n",
              "  for (const file of files) {\n",
              "    const li = document.createElement('li');\n",
              "    li.append(span(file.name, {fontWeight: 'bold'}));\n",
              "    li.append(span(\n",
              "        `(${file.type || 'n/a'}) - ${file.size} bytes, ` +\n",
              "        `last modified: ${\n",
              "            file.lastModifiedDate ? file.lastModifiedDate.toLocaleDateString() :\n",
              "                                    'n/a'} - `));\n",
              "    const percent = span('0% done');\n",
              "    li.appendChild(percent);\n",
              "\n",
              "    outputElement.appendChild(li);\n",
              "\n",
              "    const fileDataPromise = new Promise((resolve) => {\n",
              "      const reader = new FileReader();\n",
              "      reader.onload = (e) => {\n",
              "        resolve(e.target.result);\n",
              "      };\n",
              "      reader.readAsArrayBuffer(file);\n",
              "    });\n",
              "    // Wait for the data to be ready.\n",
              "    let fileData = yield {\n",
              "      promise: fileDataPromise,\n",
              "      response: {\n",
              "        action: 'continue',\n",
              "      }\n",
              "    };\n",
              "\n",
              "    // Use a chunked sending to avoid message size limits. See b/62115660.\n",
              "    let position = 0;\n",
              "    do {\n",
              "      const length = Math.min(fileData.byteLength - position, MAX_PAYLOAD_SIZE);\n",
              "      const chunk = new Uint8Array(fileData, position, length);\n",
              "      position += length;\n",
              "\n",
              "      const base64 = btoa(String.fromCharCode.apply(null, chunk));\n",
              "      yield {\n",
              "        response: {\n",
              "          action: 'append',\n",
              "          file: file.name,\n",
              "          data: base64,\n",
              "        },\n",
              "      };\n",
              "\n",
              "      let percentDone = fileData.byteLength === 0 ?\n",
              "          100 :\n",
              "          Math.round((position / fileData.byteLength) * 100);\n",
              "      percent.textContent = `${percentDone}% done`;\n",
              "\n",
              "    } while (position < fileData.byteLength);\n",
              "  }\n",
              "\n",
              "  // All done.\n",
              "  yield {\n",
              "    response: {\n",
              "      action: 'complete',\n",
              "    }\n",
              "  };\n",
              "}\n",
              "\n",
              "scope.google = scope.google || {};\n",
              "scope.google.colab = scope.google.colab || {};\n",
              "scope.google.colab._files = {\n",
              "  _uploadFiles,\n",
              "  _uploadFilesContinue,\n",
              "};\n",
              "})(self);\n",
              "</script> "
            ]
          },
          "metadata": {}
        },
        {
          "output_type": "stream",
          "name": "stdout",
          "text": [
            "Saving dataset1.csv to dataset1.csv\n",
            "Saving dataset2.csv to dataset2.csv\n",
            "Saving dataset3.csv to dataset3.csv\n"
          ]
        }
      ]
    },
    {
      "cell_type": "code",
      "source": [
        "import pandas as pd\n",
        "\n",
        "dataset1 = pd.read_csv('dataset1.csv')\n",
        "dataset2 = pd.read_csv('dataset2.csv')\n",
        "dataset3 = pd.read_csv('dataset3.csv')\n"
      ],
      "metadata": {
        "id": "YHKAmt2spQbf"
      },
      "execution_count": 5,
      "outputs": []
    },
    {
      "cell_type": "code",
      "source": [
        "print(dataset1.columns)\n",
        "print(dataset2.columns)\n",
        "print(dataset3.columns)\n"
      ],
      "metadata": {
        "colab": {
          "base_uri": "https://localhost:8080/"
        },
        "id": "Q8JxZ6T7pR7e",
        "outputId": "04657483-0efc-4b7f-d323-1ad7729bb451"
      },
      "execution_count": null,
      "outputs": [
        {
          "output_type": "stream",
          "name": "stdout",
          "text": [
            "Index(['ID', 'gender', 'minority', 'deprived'], dtype='object')\n",
            "Index(['ID', 'C_we', 'C_wk', 'G_we', 'G_wk', 'S_we', 'S_wk', 'T_we', 'T_wk'], dtype='object')\n",
            "Index(['ID', 'Optm', 'Usef', 'Relx', 'Intp', 'Engs', 'Dealpr', 'Thcklr',\n",
            "       'Goodme', 'Clsep', 'Conf', 'Mkmind', 'Loved', 'Intthg', 'Cheer'],\n",
            "      dtype='object')\n"
          ]
        }
      ]
    },
    {
      "cell_type": "code",
      "source": [
        "print(dataset1.isnull().sum())\n",
        "print(dataset2.isnull().sum())\n",
        "print(dataset3.isnull().sum())\n"
      ],
      "metadata": {
        "colab": {
          "base_uri": "https://localhost:8080/"
        },
        "id": "xQP-fNGRpZH2",
        "outputId": "7231d069-1fa3-4566-b6ee-453a3bebacf7"
      },
      "execution_count": null,
      "outputs": [
        {
          "output_type": "stream",
          "name": "stdout",
          "text": [
            "ID          0\n",
            "gender      0\n",
            "minority    0\n",
            "deprived    0\n",
            "dtype: int64\n",
            "ID      0\n",
            "C_we    0\n",
            "C_wk    0\n",
            "G_we    0\n",
            "G_wk    0\n",
            "S_we    0\n",
            "S_wk    0\n",
            "T_we    0\n",
            "T_wk    0\n",
            "dtype: int64\n",
            "ID        0\n",
            "Optm      0\n",
            "Usef      0\n",
            "Relx      0\n",
            "Intp      0\n",
            "Engs      0\n",
            "Dealpr    0\n",
            "Thcklr    0\n",
            "Goodme    0\n",
            "Clsep     0\n",
            "Conf      0\n",
            "Mkmind    0\n",
            "Loved     0\n",
            "Intthg    0\n",
            "Cheer     0\n",
            "dtype: int64\n"
          ]
        }
      ]
    },
    {
      "cell_type": "code",
      "source": [
        "merged_data = pd.merge(dataset1, dataset2, on='ID')\n",
        "merged_data = pd.merge(merged_data, dataset3, on='ID')\n"
      ],
      "metadata": {
        "id": "8SB6o1eUpd2M"
      },
      "execution_count": null,
      "outputs": []
    },
    {
      "cell_type": "code",
      "source": [
        "print(merged_data.head())\n",
        "print(merged_data.info())\n"
      ],
      "metadata": {
        "colab": {
          "base_uri": "https://localhost:8080/"
        },
        "id": "s-0TmR9rphzz",
        "outputId": "b66499fc-8c87-4497-8fb2-116a9ee79d72"
      },
      "execution_count": null,
      "outputs": [
        {
          "output_type": "stream",
          "name": "stdout",
          "text": [
            "        ID  gender  minority  deprived  C_we  C_wk  G_we  G_wk  S_we  S_wk  \\\n",
            "0  1087192       0         0         0   2.0   0.5   0.5   0.5   1.0   0.5   \n",
            "1  1087195       0         0         0   2.0   1.0   0.0   0.0   3.0   1.0   \n",
            "2  1087205       0         0         0   1.0   0.5   0.0   0.0   0.5   0.5   \n",
            "3  1087214       0         0         0   2.0   1.0   0.5   0.0   2.0   1.0   \n",
            "4  1087222       0         0         0   1.0   3.0   0.0   0.0   2.0   1.0   \n",
            "\n",
            "   ...  Engs  Dealpr  Thcklr  Goodme  Clsep  Conf  Mkmind  Loved  Intthg  \\\n",
            "0  ...     4       4       4       4      5     4       4      5       4   \n",
            "1  ...     3       4       5       3      5     4       4      5       4   \n",
            "2  ...     3       3       3       3      4     3       3      3       4   \n",
            "3  ...     4       4       4       4      3     5       4      5       4   \n",
            "4  ...     2       3       3       4      4     3       5      5       5   \n",
            "\n",
            "   Cheer  \n",
            "0      4  \n",
            "1      4  \n",
            "2      4  \n",
            "3      4  \n",
            "4      5  \n",
            "\n",
            "[5 rows x 26 columns]\n",
            "<class 'pandas.core.frame.DataFrame'>\n",
            "RangeIndex: 98278 entries, 0 to 98277\n",
            "Data columns (total 26 columns):\n",
            " #   Column    Non-Null Count  Dtype  \n",
            "---  ------    --------------  -----  \n",
            " 0   ID        98278 non-null  int64  \n",
            " 1   gender    98278 non-null  int64  \n",
            " 2   minority  98278 non-null  int64  \n",
            " 3   deprived  98278 non-null  int64  \n",
            " 4   C_we      98278 non-null  float64\n",
            " 5   C_wk      98278 non-null  float64\n",
            " 6   G_we      98278 non-null  float64\n",
            " 7   G_wk      98278 non-null  float64\n",
            " 8   S_we      98278 non-null  float64\n",
            " 9   S_wk      98278 non-null  float64\n",
            " 10  T_we      98278 non-null  float64\n",
            " 11  T_wk      98278 non-null  float64\n",
            " 12  Optm      98278 non-null  int64  \n",
            " 13  Usef      98278 non-null  int64  \n",
            " 14  Relx      98278 non-null  int64  \n",
            " 15  Intp      98278 non-null  int64  \n",
            " 16  Engs      98278 non-null  int64  \n",
            " 17  Dealpr    98278 non-null  int64  \n",
            " 18  Thcklr    98278 non-null  int64  \n",
            " 19  Goodme    98278 non-null  int64  \n",
            " 20  Clsep     98278 non-null  int64  \n",
            " 21  Conf      98278 non-null  int64  \n",
            " 22  Mkmind    98278 non-null  int64  \n",
            " 23  Loved     98278 non-null  int64  \n",
            " 24  Intthg    98278 non-null  int64  \n",
            " 25  Cheer     98278 non-null  int64  \n",
            "dtypes: float64(8), int64(18)\n",
            "memory usage: 19.5 MB\n",
            "None\n"
          ]
        }
      ]
    },
    {
      "cell_type": "code",
      "source": [
        "summary_report = {\n",
        "    \"Number of Rows\": merged_data.shape[0],\n",
        "    \"Number of Columns\": merged_data.shape[1],\n",
        "    \"Columns\": merged_data.columns.tolist(),\n",
        "    \"Missing Values\": merged_data.isnull().sum().to_dict()\n",
        "}\n",
        "\n",
        "print(summary_report)\n"
      ],
      "metadata": {
        "colab": {
          "base_uri": "https://localhost:8080/"
        },
        "id": "51iOvMRDqBxl",
        "outputId": "1db22952-a34f-4367-8fd7-84c4e82392f8"
      },
      "execution_count": null,
      "outputs": [
        {
          "output_type": "stream",
          "name": "stdout",
          "text": [
            "{'Number of Rows': 98278, 'Number of Columns': 26, 'Columns': ['ID', 'gender', 'minority', 'deprived', 'C_we', 'C_wk', 'G_we', 'G_wk', 'S_we', 'S_wk', 'T_we', 'T_wk', 'Optm', 'Usef', 'Relx', 'Intp', 'Engs', 'Dealpr', 'Thcklr', 'Goodme', 'Clsep', 'Conf', 'Mkmind', 'Loved', 'Intthg', 'Cheer'], 'Missing Values': {'ID': 0, 'gender': 0, 'minority': 0, 'deprived': 0, 'C_we': 0, 'C_wk': 0, 'G_we': 0, 'G_wk': 0, 'S_we': 0, 'S_wk': 0, 'T_we': 0, 'T_wk': 0, 'Optm': 0, 'Usef': 0, 'Relx': 0, 'Intp': 0, 'Engs': 0, 'Dealpr': 0, 'Thcklr': 0, 'Goodme': 0, 'Clsep': 0, 'Conf': 0, 'Mkmind': 0, 'Loved': 0, 'Intthg': 0, 'Cheer': 0}}\n"
          ]
        }
      ]
    },
    {
      "cell_type": "code",
      "source": [
        "merged_data.to_csv('merged_data.csv', index=False)\n"
      ],
      "metadata": {
        "id": "tO_fQ4wOqVpw"
      },
      "execution_count": null,
      "outputs": []
    },
    {
      "cell_type": "code",
      "source": [
        "files.download('merged_data.csv')\n"
      ],
      "metadata": {
        "colab": {
          "base_uri": "https://localhost:8080/",
          "height": 17
        },
        "id": "LHLWX8GbqZoG",
        "outputId": "95c8a615-4392-4b4d-a914-6c4d37e42d76"
      },
      "execution_count": null,
      "outputs": [
        {
          "output_type": "display_data",
          "data": {
            "text/plain": [
              "<IPython.core.display.Javascript object>"
            ],
            "application/javascript": [
              "\n",
              "    async function download(id, filename, size) {\n",
              "      if (!google.colab.kernel.accessAllowed) {\n",
              "        return;\n",
              "      }\n",
              "      const div = document.createElement('div');\n",
              "      const label = document.createElement('label');\n",
              "      label.textContent = `Downloading \"${filename}\": `;\n",
              "      div.appendChild(label);\n",
              "      const progress = document.createElement('progress');\n",
              "      progress.max = size;\n",
              "      div.appendChild(progress);\n",
              "      document.body.appendChild(div);\n",
              "\n",
              "      const buffers = [];\n",
              "      let downloaded = 0;\n",
              "\n",
              "      const channel = await google.colab.kernel.comms.open(id);\n",
              "      // Send a message to notify the kernel that we're ready.\n",
              "      channel.send({})\n",
              "\n",
              "      for await (const message of channel.messages) {\n",
              "        // Send a message to notify the kernel that we're ready.\n",
              "        channel.send({})\n",
              "        if (message.buffers) {\n",
              "          for (const buffer of message.buffers) {\n",
              "            buffers.push(buffer);\n",
              "            downloaded += buffer.byteLength;\n",
              "            progress.value = downloaded;\n",
              "          }\n",
              "        }\n",
              "      }\n",
              "      const blob = new Blob(buffers, {type: 'application/binary'});\n",
              "      const a = document.createElement('a');\n",
              "      a.href = window.URL.createObjectURL(blob);\n",
              "      a.download = filename;\n",
              "      div.appendChild(a);\n",
              "      a.click();\n",
              "      div.remove();\n",
              "    }\n",
              "  "
            ]
          },
          "metadata": {}
        },
        {
          "output_type": "display_data",
          "data": {
            "text/plain": [
              "<IPython.core.display.Javascript object>"
            ],
            "application/javascript": [
              "download(\"download_1c36c901-2603-4c93-b77d-0a345907b6da\", \"merged_data.csv\", 7272723)"
            ]
          },
          "metadata": {}
        }
      ]
    }
  ]
}