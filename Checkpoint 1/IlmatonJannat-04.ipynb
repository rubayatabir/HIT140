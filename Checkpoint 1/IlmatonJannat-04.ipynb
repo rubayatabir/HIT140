{
  "cells": [
    {
      "cell_type": "code",
      "execution_count": null,
      "metadata": {
        "id": "vYcvT8ozZbC4"
      },
      "outputs": [],
      "source": []
    },
    {
      "cell_type": "code",
      "execution_count": 2,
      "metadata": {
        "id": "76NjUVaodPiD"
      },
      "outputs": [],
      "source": [
        "import pandas as pd\n",
        "import scipy.stats as stats\n",
        "import statsmodels.api as sm\n"
      ]
    },
    {
      "cell_type": "code",
      "execution_count": 3,
      "metadata": {
        "colab": {
          "base_uri": "https://localhost:8080/",
          "height": 73
        },
        "id": "WtEpXjzHddjy",
        "outputId": "1820044f-ad5c-4db3-f118-e95fd4cf7bae"
      },
      "outputs": [
        {
          "data": {
            "text/html": [
              "\n",
              "     <input type=\"file\" id=\"files-795174a9-ec43-4997-89eb-6080423aec64\" name=\"files[]\" multiple disabled\n",
              "        style=\"border:none\" />\n",
              "     <output id=\"result-795174a9-ec43-4997-89eb-6080423aec64\">\n",
              "      Upload widget is only available when the cell has been executed in the\n",
              "      current browser session. Please rerun this cell to enable.\n",
              "      </output>\n",
              "      <script>// Copyright 2017 Google LLC\n",
              "//\n",
              "// Licensed under the Apache License, Version 2.0 (the \"License\");\n",
              "// you may not use this file except in compliance with the License.\n",
              "// You may obtain a copy of the License at\n",
              "//\n",
              "//      http://www.apache.org/licenses/LICENSE-2.0\n",
              "//\n",
              "// Unless required by applicable law or agreed to in writing, software\n",
              "// distributed under the License is distributed on an \"AS IS\" BASIS,\n",
              "// WITHOUT WARRANTIES OR CONDITIONS OF ANY KIND, either express or implied.\n",
              "// See the License for the specific language governing permissions and\n",
              "// limitations under the License.\n",
              "\n",
              "/**\n",
              " * @fileoverview Helpers for google.colab Python module.\n",
              " */\n",
              "(function(scope) {\n",
              "function span(text, styleAttributes = {}) {\n",
              "  const element = document.createElement('span');\n",
              "  element.textContent = text;\n",
              "  for (const key of Object.keys(styleAttributes)) {\n",
              "    element.style[key] = styleAttributes[key];\n",
              "  }\n",
              "  return element;\n",
              "}\n",
              "\n",
              "// Max number of bytes which will be uploaded at a time.\n",
              "const MAX_PAYLOAD_SIZE = 100 * 1024;\n",
              "\n",
              "function _uploadFiles(inputId, outputId) {\n",
              "  const steps = uploadFilesStep(inputId, outputId);\n",
              "  const outputElement = document.getElementById(outputId);\n",
              "  // Cache steps on the outputElement to make it available for the next call\n",
              "  // to uploadFilesContinue from Python.\n",
              "  outputElement.steps = steps;\n",
              "\n",
              "  return _uploadFilesContinue(outputId);\n",
              "}\n",
              "\n",
              "// This is roughly an async generator (not supported in the browser yet),\n",
              "// where there are multiple asynchronous steps and the Python side is going\n",
              "// to poll for completion of each step.\n",
              "// This uses a Promise to block the python side on completion of each step,\n",
              "// then passes the result of the previous step as the input to the next step.\n",
              "function _uploadFilesContinue(outputId) {\n",
              "  const outputElement = document.getElementById(outputId);\n",
              "  const steps = outputElement.steps;\n",
              "\n",
              "  const next = steps.next(outputElement.lastPromiseValue);\n",
              "  return Promise.resolve(next.value.promise).then((value) => {\n",
              "    // Cache the last promise value to make it available to the next\n",
              "    // step of the generator.\n",
              "    outputElement.lastPromiseValue = value;\n",
              "    return next.value.response;\n",
              "  });\n",
              "}\n",
              "\n",
              "/**\n",
              " * Generator function which is called between each async step of the upload\n",
              " * process.\n",
              " * @param {string} inputId Element ID of the input file picker element.\n",
              " * @param {string} outputId Element ID of the output display.\n",
              " * @return {!Iterable<!Object>} Iterable of next steps.\n",
              " */\n",
              "function* uploadFilesStep(inputId, outputId) {\n",
              "  const inputElement = document.getElementById(inputId);\n",
              "  inputElement.disabled = false;\n",
              "\n",
              "  const outputElement = document.getElementById(outputId);\n",
              "  outputElement.innerHTML = '';\n",
              "\n",
              "  const pickedPromise = new Promise((resolve) => {\n",
              "    inputElement.addEventListener('change', (e) => {\n",
              "      resolve(e.target.files);\n",
              "    });\n",
              "  });\n",
              "\n",
              "  const cancel = document.createElement('button');\n",
              "  inputElement.parentElement.appendChild(cancel);\n",
              "  cancel.textContent = 'Cancel upload';\n",
              "  const cancelPromise = new Promise((resolve) => {\n",
              "    cancel.onclick = () => {\n",
              "      resolve(null);\n",
              "    };\n",
              "  });\n",
              "\n",
              "  // Wait for the user to pick the files.\n",
              "  const files = yield {\n",
              "    promise: Promise.race([pickedPromise, cancelPromise]),\n",
              "    response: {\n",
              "      action: 'starting',\n",
              "    }\n",
              "  };\n",
              "\n",
              "  cancel.remove();\n",
              "\n",
              "  // Disable the input element since further picks are not allowed.\n",
              "  inputElement.disabled = true;\n",
              "\n",
              "  if (!files) {\n",
              "    return {\n",
              "      response: {\n",
              "        action: 'complete',\n",
              "      }\n",
              "    };\n",
              "  }\n",
              "\n",
              "  for (const file of files) {\n",
              "    const li = document.createElement('li');\n",
              "    li.append(span(file.name, {fontWeight: 'bold'}));\n",
              "    li.append(span(\n",
              "        `(${file.type || 'n/a'}) - ${file.size} bytes, ` +\n",
              "        `last modified: ${\n",
              "            file.lastModifiedDate ? file.lastModifiedDate.toLocaleDateString() :\n",
              "                                    'n/a'} - `));\n",
              "    const percent = span('0% done');\n",
              "    li.appendChild(percent);\n",
              "\n",
              "    outputElement.appendChild(li);\n",
              "\n",
              "    const fileDataPromise = new Promise((resolve) => {\n",
              "      const reader = new FileReader();\n",
              "      reader.onload = (e) => {\n",
              "        resolve(e.target.result);\n",
              "      };\n",
              "      reader.readAsArrayBuffer(file);\n",
              "    });\n",
              "    // Wait for the data to be ready.\n",
              "    let fileData = yield {\n",
              "      promise: fileDataPromise,\n",
              "      response: {\n",
              "        action: 'continue',\n",
              "      }\n",
              "    };\n",
              "\n",
              "    // Use a chunked sending to avoid message size limits. See b/62115660.\n",
              "    let position = 0;\n",
              "    do {\n",
              "      const length = Math.min(fileData.byteLength - position, MAX_PAYLOAD_SIZE);\n",
              "      const chunk = new Uint8Array(fileData, position, length);\n",
              "      position += length;\n",
              "\n",
              "      const base64 = btoa(String.fromCharCode.apply(null, chunk));\n",
              "      yield {\n",
              "        response: {\n",
              "          action: 'append',\n",
              "          file: file.name,\n",
              "          data: base64,\n",
              "        },\n",
              "      };\n",
              "\n",
              "      let percentDone = fileData.byteLength === 0 ?\n",
              "          100 :\n",
              "          Math.round((position / fileData.byteLength) * 100);\n",
              "      percent.textContent = `${percentDone}% done`;\n",
              "\n",
              "    } while (position < fileData.byteLength);\n",
              "  }\n",
              "\n",
              "  // All done.\n",
              "  yield {\n",
              "    response: {\n",
              "      action: 'complete',\n",
              "    }\n",
              "  };\n",
              "}\n",
              "\n",
              "scope.google = scope.google || {};\n",
              "scope.google.colab = scope.google.colab || {};\n",
              "scope.google.colab._files = {\n",
              "  _uploadFiles,\n",
              "  _uploadFilesContinue,\n",
              "};\n",
              "})(self);\n",
              "</script> "
            ],
            "text/plain": [
              "<IPython.core.display.HTML object>"
            ]
          },
          "metadata": {},
          "output_type": "display_data"
        },
        {
          "name": "stdout",
          "output_type": "stream",
          "text": [
            "Saving merged_data.csv to merged_data.csv\n"
          ]
        }
      ],
      "source": [
        "from google.colab import files\n",
        "uploaded = files.upload()\n",
        "\n",
        "merged_data = pd.read_csv('merged_data.csv')\n"
      ]
    },
    {
      "cell_type": "code",
      "execution_count": 4,
      "metadata": {
        "colab": {
          "base_uri": "https://localhost:8080/"
        },
        "id": "Y6WCfF_PeIaq",
        "outputId": "aeeef1f7-d45c-4463-b9ca-1f5ec29cb402"
      },
      "outputs": [
        {
          "name": "stdout",
          "output_type": "stream",
          "text": [
            "T-test: t-statistic = 15.521505169170723, p-value = 2.8792683901280545e-54\n"
          ]
        }
      ],
      "source": [
        "# Example: T-test comparing 'C_we' between two groups (gender)\n",
        "t_stat, p_val = stats.ttest_ind(merged_data[merged_data['gender'] == 0]['C_we'],\n",
        "                                merged_data[merged_data['gender'] == 1]['C_we'])\n",
        "print(f\"T-test: t-statistic = {t_stat}, p-value = {p_val}\")\n",
        "\n"
      ]
    },
    {
      "cell_type": "code",
      "execution_count": 5,
      "metadata": {
        "colab": {
          "base_uri": "https://localhost:8080/"
        },
        "id": "6FPPJtYReOjf",
        "outputId": "fd2ed8fa-e905-4137-eef8-dc84df056ede"
      },
      "outputs": [
        {
          "name": "stdout",
          "output_type": "stream",
          "text": [
            "                            OLS Regression Results                            \n",
            "==============================================================================\n",
            "Dep. Variable:                   G_we   R-squared:                       0.015\n",
            "Model:                            OLS   Adj. R-squared:                  0.015\n",
            "Method:                 Least Squares   F-statistic:                     1517.\n",
            "Date:                Fri, 23 Aug 2024   Prob (F-statistic):               0.00\n",
            "Time:                        13:42:01   Log-Likelihood:            -2.1437e+05\n",
            "No. Observations:               98278   AIC:                         4.287e+05\n",
            "Df Residuals:                   98276   BIC:                         4.288e+05\n",
            "Df Model:                           1                                         \n",
            "Covariance Type:            nonrobust                                         \n",
            "==============================================================================\n",
            "                 coef    std err          t      P>|t|      [0.025      0.975]\n",
            "------------------------------------------------------------------------------\n",
            "const          1.4435      0.010    144.737      0.000       1.424       1.463\n",
            "C_we           0.1286      0.003     38.946      0.000       0.122       0.135\n",
            "==============================================================================\n",
            "Omnibus:                    13288.972   Durbin-Watson:                   0.338\n",
            "Prob(Omnibus):                  0.000   Jarque-Bera (JB):            19617.456\n",
            "Skew:                           1.094   Prob(JB):                         0.00\n",
            "Kurtosis:                       3.055   Cond. No.                         4.67\n",
            "==============================================================================\n",
            "\n",
            "Notes:\n",
            "[1] Standard Errors assume that the covariance matrix of the errors is correctly specified.\n"
          ]
        }
      ],
      "source": [
        "# Example: Simple linear regression predicting 'G_we' using 'C_we'\n",
        "X = merged_data['C_we']\n",
        "Y = merged_data['G_we']\n",
        "\n",
        "X = sm.add_constant(X)  # Adds a constant term to the predictor\n",
        "model = sm.OLS(Y, X).fit()\n",
        "\n",
        "predictions = model.predict(X)\n",
        "print(model.summary())\n"
      ]
    },
    {
      "cell_type": "code",
      "execution_count": 6,
      "metadata": {
        "colab": {
          "base_uri": "https://localhost:8080/"
        },
        "id": "BjPuPsp6eT1v",
        "outputId": "95e25c3d-5b4c-40a0-c004-f139e864f21b"
      },
      "outputs": [
        {
          "name": "stdout",
          "output_type": "stream",
          "text": [
            "              0         1\n",
            "const  1.423976  1.463072\n",
            "C_we   0.122164  0.135112\n"
          ]
        }
      ],
      "source": [
        "conf_intervals = model.conf_int()\n",
        "print(conf_intervals)\n"
      ]
    },
    {
      "cell_type": "code",
      "execution_count": 7,
      "metadata": {
        "colab": {
          "base_uri": "https://localhost:8080/"
        },
        "id": "PSO-Ksz4eZZu",
        "outputId": "313145b9-6e77-44fd-eff6-179466960cc5"
      },
      "outputs": [
        {
          "name": "stdout",
          "output_type": "stream",
          "text": [
            "{'T-test': {'t-statistic': 15.521505169170723, 'p-value': 2.8792683901280545e-54}, 'Regression Summary': '                            OLS Regression Results                            \\n==============================================================================\\nDep. Variable:                   G_we   R-squared:                       0.015\\nModel:                            OLS   Adj. R-squared:                  0.015\\nMethod:                 Least Squares   F-statistic:                     1517.\\nDate:                Fri, 23 Aug 2024   Prob (F-statistic):               0.00\\nTime:                        13:42:45   Log-Likelihood:            -2.1437e+05\\nNo. Observations:               98278   AIC:                         4.287e+05\\nDf Residuals:                   98276   BIC:                         4.288e+05\\nDf Model:                           1                                         \\nCovariance Type:            nonrobust                                         \\n==============================================================================\\n                 coef    std err          t      P>|t|      [0.025      0.975]\\n------------------------------------------------------------------------------\\nconst          1.4435      0.010    144.737      0.000       1.424       1.463\\nC_we           0.1286      0.003     38.946      0.000       0.122       0.135\\n==============================================================================\\nOmnibus:                    13288.972   Durbin-Watson:                   0.338\\nProb(Omnibus):                  0.000   Jarque-Bera (JB):            19617.456\\nSkew:                           1.094   Prob(JB):                         0.00\\nKurtosis:                       3.055   Cond. No.                         4.67\\n==============================================================================\\n\\nNotes:\\n[1] Standard Errors assume that the covariance matrix of the errors is correctly specified.', 'Confidence Intervals': {0: {'const': 1.4239760145155722, 'C_we': 0.12216421583036587}, 1: {'const': 1.4630716435259348, 'C_we': 0.1351119439058241}}}\n"
          ]
        }
      ],
      "source": [
        "inferential_report = {\n",
        "    \"T-test\": {\"t-statistic\": t_stat, \"p-value\": p_val},\n",
        "    \"Regression Summary\": model.summary().as_text(),\n",
        "    \"Confidence Intervals\": conf_intervals.to_dict()\n",
        "}\n",
        "\n",
        "print(inferential_report)\n"
      ]
    }
  ],
  "metadata": {
    "colab": {
      "provenance": []
    },
    "kernelspec": {
      "display_name": "Python 3",
      "name": "python3"
    },
    "language_info": {
      "name": "python"
    }
  },
  "nbformat": 4,
  "nbformat_minor": 0
}
